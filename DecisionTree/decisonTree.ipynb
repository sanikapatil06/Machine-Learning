{
 "cells": [
  {
   "cell_type": "markdown",
   "metadata": {},
   "source": [
    "### Decision Tree Induction"
   ]
  },
  {
   "cell_type": "markdown",
   "metadata": {},
   "source": [
    "#### Imports"
   ]
  },
  {
   "cell_type": "code",
   "execution_count": 1,
   "metadata": {},
   "outputs": [],
   "source": [
    "import numpy as np\n",
    "import pandas as pd\n",
    "import matplotlib.pyplot as plt"
   ]
  },
  {
   "cell_type": "markdown",
   "metadata": {},
   "source": [
    "#### Data Preparation"
   ]
  },
  {
   "cell_type": "code",
   "execution_count": 2,
   "metadata": {},
   "outputs": [
    {
     "data": {
      "text/html": [
       "<div>\n",
       "<style scoped>\n",
       "    .dataframe tbody tr th:only-of-type {\n",
       "        vertical-align: middle;\n",
       "    }\n",
       "\n",
       "    .dataframe tbody tr th {\n",
       "        vertical-align: top;\n",
       "    }\n",
       "\n",
       "    .dataframe thead th {\n",
       "        text-align: right;\n",
       "    }\n",
       "</style>\n",
       "<table border=\"1\" class=\"dataframe\">\n",
       "  <thead>\n",
       "    <tr style=\"text-align: right;\">\n",
       "      <th></th>\n",
       "      <th>age</th>\n",
       "      <th>workclass</th>\n",
       "      <th>fnlwgt</th>\n",
       "      <th>education</th>\n",
       "      <th>education.num</th>\n",
       "      <th>marital.status</th>\n",
       "      <th>occupation</th>\n",
       "      <th>relationship</th>\n",
       "      <th>race</th>\n",
       "      <th>sex</th>\n",
       "      <th>capital.gain</th>\n",
       "      <th>capital.loss</th>\n",
       "      <th>hours.per.week</th>\n",
       "      <th>native.country</th>\n",
       "      <th>income</th>\n",
       "    </tr>\n",
       "  </thead>\n",
       "  <tbody>\n",
       "    <tr>\n",
       "      <th>0</th>\n",
       "      <td>90</td>\n",
       "      <td>?</td>\n",
       "      <td>77053</td>\n",
       "      <td>HS-grad</td>\n",
       "      <td>9</td>\n",
       "      <td>Widowed</td>\n",
       "      <td>?</td>\n",
       "      <td>Not-in-family</td>\n",
       "      <td>White</td>\n",
       "      <td>Female</td>\n",
       "      <td>0</td>\n",
       "      <td>4356</td>\n",
       "      <td>40</td>\n",
       "      <td>United-States</td>\n",
       "      <td>&lt;=50K</td>\n",
       "    </tr>\n",
       "    <tr>\n",
       "      <th>1</th>\n",
       "      <td>82</td>\n",
       "      <td>Private</td>\n",
       "      <td>132870</td>\n",
       "      <td>HS-grad</td>\n",
       "      <td>9</td>\n",
       "      <td>Widowed</td>\n",
       "      <td>Exec-managerial</td>\n",
       "      <td>Not-in-family</td>\n",
       "      <td>White</td>\n",
       "      <td>Female</td>\n",
       "      <td>0</td>\n",
       "      <td>4356</td>\n",
       "      <td>18</td>\n",
       "      <td>United-States</td>\n",
       "      <td>&lt;=50K</td>\n",
       "    </tr>\n",
       "    <tr>\n",
       "      <th>2</th>\n",
       "      <td>66</td>\n",
       "      <td>?</td>\n",
       "      <td>186061</td>\n",
       "      <td>Some-college</td>\n",
       "      <td>10</td>\n",
       "      <td>Widowed</td>\n",
       "      <td>?</td>\n",
       "      <td>Unmarried</td>\n",
       "      <td>Black</td>\n",
       "      <td>Female</td>\n",
       "      <td>0</td>\n",
       "      <td>4356</td>\n",
       "      <td>40</td>\n",
       "      <td>United-States</td>\n",
       "      <td>&lt;=50K</td>\n",
       "    </tr>\n",
       "    <tr>\n",
       "      <th>3</th>\n",
       "      <td>54</td>\n",
       "      <td>Private</td>\n",
       "      <td>140359</td>\n",
       "      <td>7th-8th</td>\n",
       "      <td>4</td>\n",
       "      <td>Divorced</td>\n",
       "      <td>Machine-op-inspct</td>\n",
       "      <td>Unmarried</td>\n",
       "      <td>White</td>\n",
       "      <td>Female</td>\n",
       "      <td>0</td>\n",
       "      <td>3900</td>\n",
       "      <td>40</td>\n",
       "      <td>United-States</td>\n",
       "      <td>&lt;=50K</td>\n",
       "    </tr>\n",
       "    <tr>\n",
       "      <th>4</th>\n",
       "      <td>41</td>\n",
       "      <td>Private</td>\n",
       "      <td>264663</td>\n",
       "      <td>Some-college</td>\n",
       "      <td>10</td>\n",
       "      <td>Separated</td>\n",
       "      <td>Prof-specialty</td>\n",
       "      <td>Own-child</td>\n",
       "      <td>White</td>\n",
       "      <td>Female</td>\n",
       "      <td>0</td>\n",
       "      <td>3900</td>\n",
       "      <td>40</td>\n",
       "      <td>United-States</td>\n",
       "      <td>&lt;=50K</td>\n",
       "    </tr>\n",
       "  </tbody>\n",
       "</table>\n",
       "</div>"
      ],
      "text/plain": [
       "   age workclass  fnlwgt     education  education.num marital.status  \\\n",
       "0   90         ?   77053       HS-grad              9        Widowed   \n",
       "1   82   Private  132870       HS-grad              9        Widowed   \n",
       "2   66         ?  186061  Some-college             10        Widowed   \n",
       "3   54   Private  140359       7th-8th              4       Divorced   \n",
       "4   41   Private  264663  Some-college             10      Separated   \n",
       "\n",
       "          occupation   relationship   race     sex  capital.gain  \\\n",
       "0                  ?  Not-in-family  White  Female             0   \n",
       "1    Exec-managerial  Not-in-family  White  Female             0   \n",
       "2                  ?      Unmarried  Black  Female             0   \n",
       "3  Machine-op-inspct      Unmarried  White  Female             0   \n",
       "4     Prof-specialty      Own-child  White  Female             0   \n",
       "\n",
       "   capital.loss  hours.per.week native.country income  \n",
       "0          4356              40  United-States  <=50K  \n",
       "1          4356              18  United-States  <=50K  \n",
       "2          4356              40  United-States  <=50K  \n",
       "3          3900              40  United-States  <=50K  \n",
       "4          3900              40  United-States  <=50K  "
      ]
     },
     "execution_count": 2,
     "metadata": {},
     "output_type": "execute_result"
    }
   ],
   "source": [
    "df = pd.read_csv('./adult.csv')\n",
    "df.head()"
   ]
  },
  {
   "cell_type": "code",
   "execution_count": 3,
   "metadata": {},
   "outputs": [
    {
     "data": {
      "text/plain": [
       "age               0\n",
       "workclass         0\n",
       "fnlwgt            0\n",
       "education         0\n",
       "education.num     0\n",
       "marital.status    0\n",
       "occupation        0\n",
       "relationship      0\n",
       "race              0\n",
       "sex               0\n",
       "capital.gain      0\n",
       "capital.loss      0\n",
       "hours.per.week    0\n",
       "native.country    0\n",
       "income            0\n",
       "dtype: int64"
      ]
     },
     "execution_count": 3,
     "metadata": {},
     "output_type": "execute_result"
    }
   ],
   "source": [
    "df.isnull().sum()"
   ]
  },
  {
   "cell_type": "code",
   "execution_count": 4,
   "metadata": {},
   "outputs": [
    {
     "data": {
      "text/plain": [
       "Private             22696\n",
       "Self-emp-not-inc     2541\n",
       "Local-gov            2093\n",
       "?                    1836\n",
       "State-gov            1298\n",
       "Self-emp-inc         1116\n",
       "Federal-gov           960\n",
       "Without-pay            14\n",
       "Never-worked            7\n",
       "Name: workclass, dtype: int64"
      ]
     },
     "execution_count": 4,
     "metadata": {},
     "output_type": "execute_result"
    }
   ],
   "source": [
    "df['workclass'].value_counts()"
   ]
  },
  {
   "cell_type": "code",
   "execution_count": 5,
   "metadata": {},
   "outputs": [],
   "source": [
    "# drop the rows where workclass is ?\n",
    "df = df[df['workclass'] != '?']"
   ]
  },
  {
   "cell_type": "code",
   "execution_count": 6,
   "metadata": {},
   "outputs": [
    {
     "data": {
      "text/plain": [
       "HS-grad         9969\n",
       "Some-college    6777\n",
       "Bachelors       5182\n",
       "Masters         1675\n",
       "Assoc-voc       1321\n",
       "11th            1057\n",
       "Assoc-acdm      1020\n",
       "10th             833\n",
       "7th-8th          574\n",
       "Prof-school      558\n",
       "9th              463\n",
       "Doctorate        398\n",
       "12th             393\n",
       "5th-6th          303\n",
       "1st-4th          156\n",
       "Preschool         46\n",
       "Name: education, dtype: int64"
      ]
     },
     "execution_count": 6,
     "metadata": {},
     "output_type": "execute_result"
    }
   ],
   "source": [
    "df['education'].value_counts()"
   ]
  },
  {
   "cell_type": "code",
   "execution_count": 7,
   "metadata": {},
   "outputs": [],
   "source": [
    "from sklearn import preprocessing\n",
    "\n",
    "label_encoder = preprocessing.LabelEncoder()\n",
    "df['education'] = label_encoder.fit_transform(df['education'])"
   ]
  },
  {
   "cell_type": "code",
   "execution_count": 8,
   "metadata": {},
   "outputs": [
    {
     "data": {
      "text/plain": [
       "Married-civ-spouse       14340\n",
       "Never-married             9917\n",
       "Divorced                  4259\n",
       "Separated                  959\n",
       "Widowed                    840\n",
       "Married-spouse-absent      389\n",
       "Married-AF-spouse           21\n",
       "Name: marital.status, dtype: int64"
      ]
     },
     "execution_count": 8,
     "metadata": {},
     "output_type": "execute_result"
    }
   ],
   "source": [
    "df['marital.status'].value_counts()"
   ]
  },
  {
   "cell_type": "code",
   "execution_count": 9,
   "metadata": {},
   "outputs": [],
   "source": [
    "df['marital.status'] = label_encoder.fit_transform(df['marital.status'])"
   ]
  },
  {
   "cell_type": "code",
   "execution_count": 10,
   "metadata": {},
   "outputs": [],
   "source": [
    "df = df[df['occupation'] != '?']"
   ]
  },
  {
   "cell_type": "code",
   "execution_count": 11,
   "metadata": {},
   "outputs": [
    {
     "data": {
      "text/plain": [
       "Prof-specialty       4140\n",
       "Craft-repair         4099\n",
       "Exec-managerial      4066\n",
       "Adm-clerical         3770\n",
       "Sales                3650\n",
       "Other-service        3295\n",
       "Machine-op-inspct    2002\n",
       "Transport-moving     1597\n",
       "Handlers-cleaners    1370\n",
       "Farming-fishing       994\n",
       "Tech-support          928\n",
       "Protective-serv       649\n",
       "Priv-house-serv       149\n",
       "Armed-Forces            9\n",
       "Name: occupation, dtype: int64"
      ]
     },
     "execution_count": 11,
     "metadata": {},
     "output_type": "execute_result"
    }
   ],
   "source": [
    "df['occupation'].value_counts()"
   ]
  },
  {
   "cell_type": "code",
   "execution_count": 12,
   "metadata": {},
   "outputs": [],
   "source": [
    "df['occupation'] = label_encoder.fit_transform(df['occupation'])"
   ]
  },
  {
   "cell_type": "code",
   "execution_count": 13,
   "metadata": {},
   "outputs": [
    {
     "data": {
      "text/html": [
       "<div>\n",
       "<style scoped>\n",
       "    .dataframe tbody tr th:only-of-type {\n",
       "        vertical-align: middle;\n",
       "    }\n",
       "\n",
       "    .dataframe tbody tr th {\n",
       "        vertical-align: top;\n",
       "    }\n",
       "\n",
       "    .dataframe thead th {\n",
       "        text-align: right;\n",
       "    }\n",
       "</style>\n",
       "<table border=\"1\" class=\"dataframe\">\n",
       "  <thead>\n",
       "    <tr style=\"text-align: right;\">\n",
       "      <th></th>\n",
       "      <th>age</th>\n",
       "      <th>workclass</th>\n",
       "      <th>fnlwgt</th>\n",
       "      <th>education</th>\n",
       "      <th>education.num</th>\n",
       "      <th>marital.status</th>\n",
       "      <th>occupation</th>\n",
       "      <th>relationship</th>\n",
       "      <th>race</th>\n",
       "      <th>sex</th>\n",
       "      <th>capital.gain</th>\n",
       "      <th>capital.loss</th>\n",
       "      <th>hours.per.week</th>\n",
       "      <th>native.country</th>\n",
       "      <th>income</th>\n",
       "    </tr>\n",
       "  </thead>\n",
       "  <tbody>\n",
       "    <tr>\n",
       "      <th>1</th>\n",
       "      <td>82</td>\n",
       "      <td>Private</td>\n",
       "      <td>132870</td>\n",
       "      <td>11</td>\n",
       "      <td>9</td>\n",
       "      <td>6</td>\n",
       "      <td>3</td>\n",
       "      <td>Not-in-family</td>\n",
       "      <td>White</td>\n",
       "      <td>Female</td>\n",
       "      <td>0</td>\n",
       "      <td>4356</td>\n",
       "      <td>18</td>\n",
       "      <td>United-States</td>\n",
       "      <td>&lt;=50K</td>\n",
       "    </tr>\n",
       "    <tr>\n",
       "      <th>3</th>\n",
       "      <td>54</td>\n",
       "      <td>Private</td>\n",
       "      <td>140359</td>\n",
       "      <td>5</td>\n",
       "      <td>4</td>\n",
       "      <td>0</td>\n",
       "      <td>6</td>\n",
       "      <td>Unmarried</td>\n",
       "      <td>White</td>\n",
       "      <td>Female</td>\n",
       "      <td>0</td>\n",
       "      <td>3900</td>\n",
       "      <td>40</td>\n",
       "      <td>United-States</td>\n",
       "      <td>&lt;=50K</td>\n",
       "    </tr>\n",
       "    <tr>\n",
       "      <th>4</th>\n",
       "      <td>41</td>\n",
       "      <td>Private</td>\n",
       "      <td>264663</td>\n",
       "      <td>15</td>\n",
       "      <td>10</td>\n",
       "      <td>5</td>\n",
       "      <td>9</td>\n",
       "      <td>Own-child</td>\n",
       "      <td>White</td>\n",
       "      <td>Female</td>\n",
       "      <td>0</td>\n",
       "      <td>3900</td>\n",
       "      <td>40</td>\n",
       "      <td>United-States</td>\n",
       "      <td>&lt;=50K</td>\n",
       "    </tr>\n",
       "    <tr>\n",
       "      <th>5</th>\n",
       "      <td>34</td>\n",
       "      <td>Private</td>\n",
       "      <td>216864</td>\n",
       "      <td>11</td>\n",
       "      <td>9</td>\n",
       "      <td>0</td>\n",
       "      <td>7</td>\n",
       "      <td>Unmarried</td>\n",
       "      <td>White</td>\n",
       "      <td>Female</td>\n",
       "      <td>0</td>\n",
       "      <td>3770</td>\n",
       "      <td>45</td>\n",
       "      <td>United-States</td>\n",
       "      <td>&lt;=50K</td>\n",
       "    </tr>\n",
       "    <tr>\n",
       "      <th>6</th>\n",
       "      <td>38</td>\n",
       "      <td>Private</td>\n",
       "      <td>150601</td>\n",
       "      <td>0</td>\n",
       "      <td>6</td>\n",
       "      <td>5</td>\n",
       "      <td>0</td>\n",
       "      <td>Unmarried</td>\n",
       "      <td>White</td>\n",
       "      <td>Male</td>\n",
       "      <td>0</td>\n",
       "      <td>3770</td>\n",
       "      <td>40</td>\n",
       "      <td>United-States</td>\n",
       "      <td>&lt;=50K</td>\n",
       "    </tr>\n",
       "  </tbody>\n",
       "</table>\n",
       "</div>"
      ],
      "text/plain": [
       "   age workclass  fnlwgt  education  education.num  marital.status  \\\n",
       "1   82   Private  132870         11              9               6   \n",
       "3   54   Private  140359          5              4               0   \n",
       "4   41   Private  264663         15             10               5   \n",
       "5   34   Private  216864         11              9               0   \n",
       "6   38   Private  150601          0              6               5   \n",
       "\n",
       "   occupation   relationship   race     sex  capital.gain  capital.loss  \\\n",
       "1           3  Not-in-family  White  Female             0          4356   \n",
       "3           6      Unmarried  White  Female             0          3900   \n",
       "4           9      Own-child  White  Female             0          3900   \n",
       "5           7      Unmarried  White  Female             0          3770   \n",
       "6           0      Unmarried  White    Male             0          3770   \n",
       "\n",
       "   hours.per.week native.country income  \n",
       "1              18  United-States  <=50K  \n",
       "3              40  United-States  <=50K  \n",
       "4              40  United-States  <=50K  \n",
       "5              45  United-States  <=50K  \n",
       "6              40  United-States  <=50K  "
      ]
     },
     "execution_count": 13,
     "metadata": {},
     "output_type": "execute_result"
    }
   ],
   "source": [
    "df.head()"
   ]
  },
  {
   "cell_type": "code",
   "execution_count": 14,
   "metadata": {},
   "outputs": [
    {
     "data": {
      "text/plain": [
       "Private             22696\n",
       "Self-emp-not-inc     2541\n",
       "Local-gov            2093\n",
       "State-gov            1298\n",
       "Self-emp-inc         1116\n",
       "Federal-gov           960\n",
       "Without-pay            14\n",
       "Name: workclass, dtype: int64"
      ]
     },
     "execution_count": 14,
     "metadata": {},
     "output_type": "execute_result"
    }
   ],
   "source": [
    "df['workclass'].value_counts()"
   ]
  },
  {
   "cell_type": "code",
   "execution_count": 15,
   "metadata": {},
   "outputs": [],
   "source": [
    "df['workclass'] = label_encoder.fit_transform(df['workclass'])"
   ]
  },
  {
   "cell_type": "code",
   "execution_count": 16,
   "metadata": {},
   "outputs": [
    {
     "data": {
      "text/plain": [
       "Husband           12704\n",
       "Not-in-family      7865\n",
       "Own-child          4525\n",
       "Unmarried          3271\n",
       "Wife               1435\n",
       "Other-relative      918\n",
       "Name: relationship, dtype: int64"
      ]
     },
     "execution_count": 16,
     "metadata": {},
     "output_type": "execute_result"
    }
   ],
   "source": [
    "df['relationship'].value_counts()"
   ]
  },
  {
   "cell_type": "code",
   "execution_count": 17,
   "metadata": {},
   "outputs": [],
   "source": [
    "df['relationship'] = label_encoder.fit_transform(df['relationship'])"
   ]
  },
  {
   "cell_type": "code",
   "execution_count": 18,
   "metadata": {},
   "outputs": [
    {
     "data": {
      "text/plain": [
       "White                 26301\n",
       "Black                  2909\n",
       "Asian-Pac-Islander      974\n",
       "Amer-Indian-Eskimo      286\n",
       "Other                   248\n",
       "Name: race, dtype: int64"
      ]
     },
     "execution_count": 18,
     "metadata": {},
     "output_type": "execute_result"
    }
   ],
   "source": [
    "df['race'].value_counts()"
   ]
  },
  {
   "cell_type": "code",
   "execution_count": 19,
   "metadata": {},
   "outputs": [],
   "source": [
    "df['race'] = label_encoder.fit_transform(df['race'])"
   ]
  },
  {
   "cell_type": "code",
   "execution_count": 20,
   "metadata": {},
   "outputs": [
    {
     "data": {
      "text/plain": [
       "Male      20788\n",
       "Female     9930\n",
       "Name: sex, dtype: int64"
      ]
     },
     "execution_count": 20,
     "metadata": {},
     "output_type": "execute_result"
    }
   ],
   "source": [
    "df['sex'].value_counts()"
   ]
  },
  {
   "cell_type": "code",
   "execution_count": 21,
   "metadata": {},
   "outputs": [],
   "source": [
    "df['sex'] = label_encoder.fit_transform(df['sex'])"
   ]
  },
  {
   "cell_type": "code",
   "execution_count": 22,
   "metadata": {},
   "outputs": [
    {
     "data": {
      "text/plain": [
       "United-States                 27504\n",
       "Mexico                          610\n",
       "?                               556\n",
       "Philippines                     188\n",
       "Germany                         128\n",
       "Puerto-Rico                     109\n",
       "Canada                          107\n",
       "El-Salvador                     100\n",
       "India                           100\n",
       "Cuba                             92\n",
       "England                          86\n",
       "Jamaica                          80\n",
       "South                            71\n",
       "China                            68\n",
       "Italy                            68\n",
       "Dominican-Republic               67\n",
       "Vietnam                          64\n",
       "Guatemala                        63\n",
       "Japan                            59\n",
       "Poland                           56\n",
       "Columbia                         56\n",
       "Iran                             42\n",
       "Haiti                            42\n",
       "Taiwan                           42\n",
       "Portugal                         34\n",
       "Nicaragua                        33\n",
       "Peru                             30\n",
       "Greece                           29\n",
       "France                           27\n",
       "Ecuador                          27\n",
       "Ireland                          24\n",
       "Hong                             19\n",
       "Cambodia                         18\n",
       "Trinadad&Tobago                  18\n",
       "Thailand                         17\n",
       "Laos                             17\n",
       "Yugoslavia                       16\n",
       "Outlying-US(Guam-USVI-etc)       14\n",
       "Hungary                          13\n",
       "Honduras                         12\n",
       "Scotland                         11\n",
       "Holand-Netherlands                1\n",
       "Name: native.country, dtype: int64"
      ]
     },
     "execution_count": 22,
     "metadata": {},
     "output_type": "execute_result"
    }
   ],
   "source": [
    "df['native.country'].value_counts()"
   ]
  },
  {
   "cell_type": "code",
   "execution_count": 23,
   "metadata": {},
   "outputs": [],
   "source": [
    "df['native.country'] = label_encoder.fit_transform(df['native.country'])\n"
   ]
  },
  {
   "cell_type": "code",
   "execution_count": 24,
   "metadata": {},
   "outputs": [
    {
     "data": {
      "text/html": [
       "<div>\n",
       "<style scoped>\n",
       "    .dataframe tbody tr th:only-of-type {\n",
       "        vertical-align: middle;\n",
       "    }\n",
       "\n",
       "    .dataframe tbody tr th {\n",
       "        vertical-align: top;\n",
       "    }\n",
       "\n",
       "    .dataframe thead th {\n",
       "        text-align: right;\n",
       "    }\n",
       "</style>\n",
       "<table border=\"1\" class=\"dataframe\">\n",
       "  <thead>\n",
       "    <tr style=\"text-align: right;\">\n",
       "      <th></th>\n",
       "      <th>age</th>\n",
       "      <th>workclass</th>\n",
       "      <th>fnlwgt</th>\n",
       "      <th>education</th>\n",
       "      <th>education.num</th>\n",
       "      <th>marital.status</th>\n",
       "      <th>occupation</th>\n",
       "      <th>relationship</th>\n",
       "      <th>race</th>\n",
       "      <th>sex</th>\n",
       "      <th>capital.gain</th>\n",
       "      <th>capital.loss</th>\n",
       "      <th>hours.per.week</th>\n",
       "      <th>native.country</th>\n",
       "      <th>income</th>\n",
       "    </tr>\n",
       "  </thead>\n",
       "  <tbody>\n",
       "    <tr>\n",
       "      <th>1</th>\n",
       "      <td>82</td>\n",
       "      <td>2</td>\n",
       "      <td>132870</td>\n",
       "      <td>11</td>\n",
       "      <td>9</td>\n",
       "      <td>6</td>\n",
       "      <td>3</td>\n",
       "      <td>1</td>\n",
       "      <td>4</td>\n",
       "      <td>0</td>\n",
       "      <td>0</td>\n",
       "      <td>4356</td>\n",
       "      <td>18</td>\n",
       "      <td>39</td>\n",
       "      <td>&lt;=50K</td>\n",
       "    </tr>\n",
       "    <tr>\n",
       "      <th>3</th>\n",
       "      <td>54</td>\n",
       "      <td>2</td>\n",
       "      <td>140359</td>\n",
       "      <td>5</td>\n",
       "      <td>4</td>\n",
       "      <td>0</td>\n",
       "      <td>6</td>\n",
       "      <td>4</td>\n",
       "      <td>4</td>\n",
       "      <td>0</td>\n",
       "      <td>0</td>\n",
       "      <td>3900</td>\n",
       "      <td>40</td>\n",
       "      <td>39</td>\n",
       "      <td>&lt;=50K</td>\n",
       "    </tr>\n",
       "    <tr>\n",
       "      <th>4</th>\n",
       "      <td>41</td>\n",
       "      <td>2</td>\n",
       "      <td>264663</td>\n",
       "      <td>15</td>\n",
       "      <td>10</td>\n",
       "      <td>5</td>\n",
       "      <td>9</td>\n",
       "      <td>3</td>\n",
       "      <td>4</td>\n",
       "      <td>0</td>\n",
       "      <td>0</td>\n",
       "      <td>3900</td>\n",
       "      <td>40</td>\n",
       "      <td>39</td>\n",
       "      <td>&lt;=50K</td>\n",
       "    </tr>\n",
       "    <tr>\n",
       "      <th>5</th>\n",
       "      <td>34</td>\n",
       "      <td>2</td>\n",
       "      <td>216864</td>\n",
       "      <td>11</td>\n",
       "      <td>9</td>\n",
       "      <td>0</td>\n",
       "      <td>7</td>\n",
       "      <td>4</td>\n",
       "      <td>4</td>\n",
       "      <td>0</td>\n",
       "      <td>0</td>\n",
       "      <td>3770</td>\n",
       "      <td>45</td>\n",
       "      <td>39</td>\n",
       "      <td>&lt;=50K</td>\n",
       "    </tr>\n",
       "    <tr>\n",
       "      <th>6</th>\n",
       "      <td>38</td>\n",
       "      <td>2</td>\n",
       "      <td>150601</td>\n",
       "      <td>0</td>\n",
       "      <td>6</td>\n",
       "      <td>5</td>\n",
       "      <td>0</td>\n",
       "      <td>4</td>\n",
       "      <td>4</td>\n",
       "      <td>1</td>\n",
       "      <td>0</td>\n",
       "      <td>3770</td>\n",
       "      <td>40</td>\n",
       "      <td>39</td>\n",
       "      <td>&lt;=50K</td>\n",
       "    </tr>\n",
       "  </tbody>\n",
       "</table>\n",
       "</div>"
      ],
      "text/plain": [
       "   age  workclass  fnlwgt  education  education.num  marital.status  \\\n",
       "1   82          2  132870         11              9               6   \n",
       "3   54          2  140359          5              4               0   \n",
       "4   41          2  264663         15             10               5   \n",
       "5   34          2  216864         11              9               0   \n",
       "6   38          2  150601          0              6               5   \n",
       "\n",
       "   occupation  relationship  race  sex  capital.gain  capital.loss  \\\n",
       "1           3             1     4    0             0          4356   \n",
       "3           6             4     4    0             0          3900   \n",
       "4           9             3     4    0             0          3900   \n",
       "5           7             4     4    0             0          3770   \n",
       "6           0             4     4    1             0          3770   \n",
       "\n",
       "   hours.per.week  native.country income  \n",
       "1              18              39  <=50K  \n",
       "3              40              39  <=50K  \n",
       "4              40              39  <=50K  \n",
       "5              45              39  <=50K  \n",
       "6              40              39  <=50K  "
      ]
     },
     "execution_count": 24,
     "metadata": {},
     "output_type": "execute_result"
    }
   ],
   "source": [
    "df.head()"
   ]
  },
  {
   "cell_type": "code",
   "execution_count": 25,
   "metadata": {},
   "outputs": [
    {
     "data": {
      "text/plain": [
       "<=50K    23068\n",
       ">50K      7650\n",
       "Name: income, dtype: int64"
      ]
     },
     "execution_count": 25,
     "metadata": {},
     "output_type": "execute_result"
    }
   ],
   "source": [
    "df['income'].value_counts()"
   ]
  },
  {
   "cell_type": "code",
   "execution_count": 26,
   "metadata": {},
   "outputs": [],
   "source": [
    "df['income'] = label_encoder.fit_transform(df['income'])"
   ]
  },
  {
   "cell_type": "code",
   "execution_count": 27,
   "metadata": {},
   "outputs": [
    {
     "data": {
      "text/html": [
       "<div>\n",
       "<style scoped>\n",
       "    .dataframe tbody tr th:only-of-type {\n",
       "        vertical-align: middle;\n",
       "    }\n",
       "\n",
       "    .dataframe tbody tr th {\n",
       "        vertical-align: top;\n",
       "    }\n",
       "\n",
       "    .dataframe thead th {\n",
       "        text-align: right;\n",
       "    }\n",
       "</style>\n",
       "<table border=\"1\" class=\"dataframe\">\n",
       "  <thead>\n",
       "    <tr style=\"text-align: right;\">\n",
       "      <th></th>\n",
       "      <th>age</th>\n",
       "      <th>workclass</th>\n",
       "      <th>fnlwgt</th>\n",
       "      <th>education</th>\n",
       "      <th>education.num</th>\n",
       "      <th>marital.status</th>\n",
       "      <th>occupation</th>\n",
       "      <th>relationship</th>\n",
       "      <th>race</th>\n",
       "      <th>sex</th>\n",
       "      <th>capital.gain</th>\n",
       "      <th>capital.loss</th>\n",
       "      <th>hours.per.week</th>\n",
       "      <th>native.country</th>\n",
       "      <th>income</th>\n",
       "    </tr>\n",
       "  </thead>\n",
       "  <tbody>\n",
       "    <tr>\n",
       "      <th>1</th>\n",
       "      <td>82</td>\n",
       "      <td>2</td>\n",
       "      <td>132870</td>\n",
       "      <td>11</td>\n",
       "      <td>9</td>\n",
       "      <td>6</td>\n",
       "      <td>3</td>\n",
       "      <td>1</td>\n",
       "      <td>4</td>\n",
       "      <td>0</td>\n",
       "      <td>0</td>\n",
       "      <td>4356</td>\n",
       "      <td>18</td>\n",
       "      <td>39</td>\n",
       "      <td>0</td>\n",
       "    </tr>\n",
       "    <tr>\n",
       "      <th>3</th>\n",
       "      <td>54</td>\n",
       "      <td>2</td>\n",
       "      <td>140359</td>\n",
       "      <td>5</td>\n",
       "      <td>4</td>\n",
       "      <td>0</td>\n",
       "      <td>6</td>\n",
       "      <td>4</td>\n",
       "      <td>4</td>\n",
       "      <td>0</td>\n",
       "      <td>0</td>\n",
       "      <td>3900</td>\n",
       "      <td>40</td>\n",
       "      <td>39</td>\n",
       "      <td>0</td>\n",
       "    </tr>\n",
       "    <tr>\n",
       "      <th>4</th>\n",
       "      <td>41</td>\n",
       "      <td>2</td>\n",
       "      <td>264663</td>\n",
       "      <td>15</td>\n",
       "      <td>10</td>\n",
       "      <td>5</td>\n",
       "      <td>9</td>\n",
       "      <td>3</td>\n",
       "      <td>4</td>\n",
       "      <td>0</td>\n",
       "      <td>0</td>\n",
       "      <td>3900</td>\n",
       "      <td>40</td>\n",
       "      <td>39</td>\n",
       "      <td>0</td>\n",
       "    </tr>\n",
       "    <tr>\n",
       "      <th>5</th>\n",
       "      <td>34</td>\n",
       "      <td>2</td>\n",
       "      <td>216864</td>\n",
       "      <td>11</td>\n",
       "      <td>9</td>\n",
       "      <td>0</td>\n",
       "      <td>7</td>\n",
       "      <td>4</td>\n",
       "      <td>4</td>\n",
       "      <td>0</td>\n",
       "      <td>0</td>\n",
       "      <td>3770</td>\n",
       "      <td>45</td>\n",
       "      <td>39</td>\n",
       "      <td>0</td>\n",
       "    </tr>\n",
       "    <tr>\n",
       "      <th>6</th>\n",
       "      <td>38</td>\n",
       "      <td>2</td>\n",
       "      <td>150601</td>\n",
       "      <td>0</td>\n",
       "      <td>6</td>\n",
       "      <td>5</td>\n",
       "      <td>0</td>\n",
       "      <td>4</td>\n",
       "      <td>4</td>\n",
       "      <td>1</td>\n",
       "      <td>0</td>\n",
       "      <td>3770</td>\n",
       "      <td>40</td>\n",
       "      <td>39</td>\n",
       "      <td>0</td>\n",
       "    </tr>\n",
       "  </tbody>\n",
       "</table>\n",
       "</div>"
      ],
      "text/plain": [
       "   age  workclass  fnlwgt  education  education.num  marital.status  \\\n",
       "1   82          2  132870         11              9               6   \n",
       "3   54          2  140359          5              4               0   \n",
       "4   41          2  264663         15             10               5   \n",
       "5   34          2  216864         11              9               0   \n",
       "6   38          2  150601          0              6               5   \n",
       "\n",
       "   occupation  relationship  race  sex  capital.gain  capital.loss  \\\n",
       "1           3             1     4    0             0          4356   \n",
       "3           6             4     4    0             0          3900   \n",
       "4           9             3     4    0             0          3900   \n",
       "5           7             4     4    0             0          3770   \n",
       "6           0             4     4    1             0          3770   \n",
       "\n",
       "   hours.per.week  native.country  income  \n",
       "1              18              39       0  \n",
       "3              40              39       0  \n",
       "4              40              39       0  \n",
       "5              45              39       0  \n",
       "6              40              39       0  "
      ]
     },
     "execution_count": 27,
     "metadata": {},
     "output_type": "execute_result"
    }
   ],
   "source": [
    "df.head()"
   ]
  },
  {
   "cell_type": "code",
   "execution_count": 28,
   "metadata": {},
   "outputs": [
    {
     "data": {
      "text/plain": [
       "(30718, 15)"
      ]
     },
     "execution_count": 28,
     "metadata": {},
     "output_type": "execute_result"
    }
   ],
   "source": [
    "df.shape"
   ]
  },
  {
   "cell_type": "code",
   "execution_count": 30,
   "metadata": {},
   "outputs": [
    {
     "data": {
      "text/html": [
       "<div>\n",
       "<style scoped>\n",
       "    .dataframe tbody tr th:only-of-type {\n",
       "        vertical-align: middle;\n",
       "    }\n",
       "\n",
       "    .dataframe tbody tr th {\n",
       "        vertical-align: top;\n",
       "    }\n",
       "\n",
       "    .dataframe thead th {\n",
       "        text-align: right;\n",
       "    }\n",
       "</style>\n",
       "<table border=\"1\" class=\"dataframe\">\n",
       "  <thead>\n",
       "    <tr style=\"text-align: right;\">\n",
       "      <th></th>\n",
       "      <th>age</th>\n",
       "      <th>workclass</th>\n",
       "      <th>fnlwgt</th>\n",
       "      <th>education</th>\n",
       "      <th>education.num</th>\n",
       "      <th>marital.status</th>\n",
       "      <th>occupation</th>\n",
       "      <th>relationship</th>\n",
       "      <th>race</th>\n",
       "      <th>sex</th>\n",
       "      <th>capital.gain</th>\n",
       "      <th>capital.loss</th>\n",
       "      <th>hours.per.week</th>\n",
       "      <th>native.country</th>\n",
       "      <th>income</th>\n",
       "    </tr>\n",
       "  </thead>\n",
       "  <tbody>\n",
       "    <tr>\n",
       "      <th>age</th>\n",
       "      <td>1.000000</td>\n",
       "      <td>0.081046</td>\n",
       "      <td>-0.076540</td>\n",
       "      <td>-0.002256</td>\n",
       "      <td>0.043567</td>\n",
       "      <td>-0.276793</td>\n",
       "      <td>-0.006037</td>\n",
       "      <td>-0.246038</td>\n",
       "      <td>0.025219</td>\n",
       "      <td>0.082117</td>\n",
       "      <td>0.080392</td>\n",
       "      <td>0.060409</td>\n",
       "      <td>0.101879</td>\n",
       "      <td>-0.003487</td>\n",
       "      <td>0.242431</td>\n",
       "    </tr>\n",
       "    <tr>\n",
       "      <th>workclass</th>\n",
       "      <td>0.081046</td>\n",
       "      <td>1.000000</td>\n",
       "      <td>-0.032241</td>\n",
       "      <td>0.017182</td>\n",
       "      <td>0.038323</td>\n",
       "      <td>-0.035143</td>\n",
       "      <td>0.015053</td>\n",
       "      <td>-0.066940</td>\n",
       "      <td>0.043371</td>\n",
       "      <td>0.075101</td>\n",
       "      <td>0.034439</td>\n",
       "      <td>0.008347</td>\n",
       "      <td>0.050181</td>\n",
       "      <td>0.003923</td>\n",
       "      <td>0.019128</td>\n",
       "    </tr>\n",
       "    <tr>\n",
       "      <th>fnlwgt</th>\n",
       "      <td>-0.076540</td>\n",
       "      <td>-0.032241</td>\n",
       "      <td>1.000000</td>\n",
       "      <td>-0.026684</td>\n",
       "      <td>-0.043509</td>\n",
       "      <td>0.031702</td>\n",
       "      <td>0.000677</td>\n",
       "      <td>0.007957</td>\n",
       "      <td>-0.023431</td>\n",
       "      <td>0.026569</td>\n",
       "      <td>-0.000189</td>\n",
       "      <td>-0.010011</td>\n",
       "      <td>-0.022810</td>\n",
       "      <td>-0.053417</td>\n",
       "      <td>-0.009446</td>\n",
       "    </tr>\n",
       "    <tr>\n",
       "      <th>education</th>\n",
       "      <td>-0.002256</td>\n",
       "      <td>0.017182</td>\n",
       "      <td>-0.026684</td>\n",
       "      <td>1.000000</td>\n",
       "      <td>0.345762</td>\n",
       "      <td>-0.040591</td>\n",
       "      <td>-0.037854</td>\n",
       "      <td>-0.012304</td>\n",
       "      <td>0.011293</td>\n",
       "      <td>-0.028155</td>\n",
       "      <td>0.029772</td>\n",
       "      <td>0.015088</td>\n",
       "      <td>0.058821</td>\n",
       "      <td>0.066650</td>\n",
       "      <td>0.078255</td>\n",
       "    </tr>\n",
       "    <tr>\n",
       "      <th>education.num</th>\n",
       "      <td>0.043567</td>\n",
       "      <td>0.038323</td>\n",
       "      <td>-0.043509</td>\n",
       "      <td>0.345762</td>\n",
       "      <td>1.000000</td>\n",
       "      <td>-0.063863</td>\n",
       "      <td>0.089105</td>\n",
       "      <td>-0.092244</td>\n",
       "      <td>0.029823</td>\n",
       "      <td>0.007443</td>\n",
       "      <td>0.124247</td>\n",
       "      <td>0.079321</td>\n",
       "      <td>0.151241</td>\n",
       "      <td>0.053229</td>\n",
       "      <td>0.334640</td>\n",
       "    </tr>\n",
       "    <tr>\n",
       "      <th>marital.status</th>\n",
       "      <td>-0.276793</td>\n",
       "      <td>-0.035143</td>\n",
       "      <td>0.031702</td>\n",
       "      <td>-0.040591</td>\n",
       "      <td>-0.063863</td>\n",
       "      <td>1.000000</td>\n",
       "      <td>0.022375</td>\n",
       "      <td>0.179141</td>\n",
       "      <td>-0.067836</td>\n",
       "      <td>-0.120360</td>\n",
       "      <td>-0.042994</td>\n",
       "      <td>-0.035608</td>\n",
       "      <td>-0.186770</td>\n",
       "      <td>-0.029265</td>\n",
       "      <td>-0.194582</td>\n",
       "    </tr>\n",
       "    <tr>\n",
       "      <th>occupation</th>\n",
       "      <td>-0.006037</td>\n",
       "      <td>0.015053</td>\n",
       "      <td>0.000677</td>\n",
       "      <td>-0.037854</td>\n",
       "      <td>0.089105</td>\n",
       "      <td>0.022375</td>\n",
       "      <td>1.000000</td>\n",
       "      <td>-0.053000</td>\n",
       "      <td>-0.001250</td>\n",
       "      <td>0.062068</td>\n",
       "      <td>0.021418</td>\n",
       "      <td>0.013041</td>\n",
       "      <td>0.018296</td>\n",
       "      <td>-0.011085</td>\n",
       "      <td>0.050144</td>\n",
       "    </tr>\n",
       "    <tr>\n",
       "      <th>relationship</th>\n",
       "      <td>-0.246038</td>\n",
       "      <td>-0.066940</td>\n",
       "      <td>0.007957</td>\n",
       "      <td>-0.012304</td>\n",
       "      <td>-0.092244</td>\n",
       "      <td>0.179141</td>\n",
       "      <td>-0.053000</td>\n",
       "      <td>1.000000</td>\n",
       "      <td>-0.115378</td>\n",
       "      <td>-0.585792</td>\n",
       "      <td>-0.056754</td>\n",
       "      <td>-0.062581</td>\n",
       "      <td>-0.257288</td>\n",
       "      <td>-0.005068</td>\n",
       "      <td>-0.251255</td>\n",
       "    </tr>\n",
       "    <tr>\n",
       "      <th>race</th>\n",
       "      <td>0.025219</td>\n",
       "      <td>0.043371</td>\n",
       "      <td>-0.023431</td>\n",
       "      <td>0.011293</td>\n",
       "      <td>0.029823</td>\n",
       "      <td>-0.067836</td>\n",
       "      <td>-0.001250</td>\n",
       "      <td>-0.115378</td>\n",
       "      <td>1.000000</td>\n",
       "      <td>0.086147</td>\n",
       "      <td>0.011526</td>\n",
       "      <td>0.020965</td>\n",
       "      <td>0.044810</td>\n",
       "      <td>0.141011</td>\n",
       "      <td>0.070927</td>\n",
       "    </tr>\n",
       "    <tr>\n",
       "      <th>sex</th>\n",
       "      <td>0.082117</td>\n",
       "      <td>0.075101</td>\n",
       "      <td>0.026569</td>\n",
       "      <td>-0.028155</td>\n",
       "      <td>0.007443</td>\n",
       "      <td>-0.120360</td>\n",
       "      <td>0.062068</td>\n",
       "      <td>-0.585792</td>\n",
       "      <td>0.086147</td>\n",
       "      <td>1.000000</td>\n",
       "      <td>0.047757</td>\n",
       "      <td>0.047010</td>\n",
       "      <td>0.230321</td>\n",
       "      <td>-0.010061</td>\n",
       "      <td>0.216626</td>\n",
       "    </tr>\n",
       "    <tr>\n",
       "      <th>capital.gain</th>\n",
       "      <td>0.080392</td>\n",
       "      <td>0.034439</td>\n",
       "      <td>-0.000189</td>\n",
       "      <td>0.029772</td>\n",
       "      <td>0.124247</td>\n",
       "      <td>-0.042994</td>\n",
       "      <td>0.021418</td>\n",
       "      <td>-0.056754</td>\n",
       "      <td>0.011526</td>\n",
       "      <td>0.047757</td>\n",
       "      <td>1.000000</td>\n",
       "      <td>-0.032332</td>\n",
       "      <td>0.079548</td>\n",
       "      <td>-0.002318</td>\n",
       "      <td>0.221871</td>\n",
       "    </tr>\n",
       "    <tr>\n",
       "      <th>capital.loss</th>\n",
       "      <td>0.060409</td>\n",
       "      <td>0.008347</td>\n",
       "      <td>-0.010011</td>\n",
       "      <td>0.015088</td>\n",
       "      <td>0.079321</td>\n",
       "      <td>-0.035608</td>\n",
       "      <td>0.013041</td>\n",
       "      <td>-0.062581</td>\n",
       "      <td>0.020965</td>\n",
       "      <td>0.047010</td>\n",
       "      <td>-0.032332</td>\n",
       "      <td>1.000000</td>\n",
       "      <td>0.053961</td>\n",
       "      <td>0.000947</td>\n",
       "      <td>0.151461</td>\n",
       "    </tr>\n",
       "    <tr>\n",
       "      <th>hours.per.week</th>\n",
       "      <td>0.101879</td>\n",
       "      <td>0.050181</td>\n",
       "      <td>-0.022810</td>\n",
       "      <td>0.058821</td>\n",
       "      <td>0.151241</td>\n",
       "      <td>-0.186770</td>\n",
       "      <td>0.018296</td>\n",
       "      <td>-0.257288</td>\n",
       "      <td>0.044810</td>\n",
       "      <td>0.230321</td>\n",
       "      <td>0.079548</td>\n",
       "      <td>0.053961</td>\n",
       "      <td>1.000000</td>\n",
       "      <td>-0.000635</td>\n",
       "      <td>0.228547</td>\n",
       "    </tr>\n",
       "    <tr>\n",
       "      <th>native.country</th>\n",
       "      <td>-0.003487</td>\n",
       "      <td>0.003923</td>\n",
       "      <td>-0.053417</td>\n",
       "      <td>0.066650</td>\n",
       "      <td>0.053229</td>\n",
       "      <td>-0.029265</td>\n",
       "      <td>-0.011085</td>\n",
       "      <td>-0.005068</td>\n",
       "      <td>0.141011</td>\n",
       "      <td>-0.010061</td>\n",
       "      <td>-0.002318</td>\n",
       "      <td>0.000947</td>\n",
       "      <td>-0.000635</td>\n",
       "      <td>1.000000</td>\n",
       "      <td>0.016524</td>\n",
       "    </tr>\n",
       "    <tr>\n",
       "      <th>income</th>\n",
       "      <td>0.242431</td>\n",
       "      <td>0.019128</td>\n",
       "      <td>-0.009446</td>\n",
       "      <td>0.078255</td>\n",
       "      <td>0.334640</td>\n",
       "      <td>-0.194582</td>\n",
       "      <td>0.050144</td>\n",
       "      <td>-0.251255</td>\n",
       "      <td>0.070927</td>\n",
       "      <td>0.216626</td>\n",
       "      <td>0.221871</td>\n",
       "      <td>0.151461</td>\n",
       "      <td>0.228547</td>\n",
       "      <td>0.016524</td>\n",
       "      <td>1.000000</td>\n",
       "    </tr>\n",
       "  </tbody>\n",
       "</table>\n",
       "</div>"
      ],
      "text/plain": [
       "                     age  workclass    fnlwgt  education  education.num  \\\n",
       "age             1.000000   0.081046 -0.076540  -0.002256       0.043567   \n",
       "workclass       0.081046   1.000000 -0.032241   0.017182       0.038323   \n",
       "fnlwgt         -0.076540  -0.032241  1.000000  -0.026684      -0.043509   \n",
       "education      -0.002256   0.017182 -0.026684   1.000000       0.345762   \n",
       "education.num   0.043567   0.038323 -0.043509   0.345762       1.000000   \n",
       "marital.status -0.276793  -0.035143  0.031702  -0.040591      -0.063863   \n",
       "occupation     -0.006037   0.015053  0.000677  -0.037854       0.089105   \n",
       "relationship   -0.246038  -0.066940  0.007957  -0.012304      -0.092244   \n",
       "race            0.025219   0.043371 -0.023431   0.011293       0.029823   \n",
       "sex             0.082117   0.075101  0.026569  -0.028155       0.007443   \n",
       "capital.gain    0.080392   0.034439 -0.000189   0.029772       0.124247   \n",
       "capital.loss    0.060409   0.008347 -0.010011   0.015088       0.079321   \n",
       "hours.per.week  0.101879   0.050181 -0.022810   0.058821       0.151241   \n",
       "native.country -0.003487   0.003923 -0.053417   0.066650       0.053229   \n",
       "income          0.242431   0.019128 -0.009446   0.078255       0.334640   \n",
       "\n",
       "                marital.status  occupation  relationship      race       sex  \\\n",
       "age                  -0.276793   -0.006037     -0.246038  0.025219  0.082117   \n",
       "workclass            -0.035143    0.015053     -0.066940  0.043371  0.075101   \n",
       "fnlwgt                0.031702    0.000677      0.007957 -0.023431  0.026569   \n",
       "education            -0.040591   -0.037854     -0.012304  0.011293 -0.028155   \n",
       "education.num        -0.063863    0.089105     -0.092244  0.029823  0.007443   \n",
       "marital.status        1.000000    0.022375      0.179141 -0.067836 -0.120360   \n",
       "occupation            0.022375    1.000000     -0.053000 -0.001250  0.062068   \n",
       "relationship          0.179141   -0.053000      1.000000 -0.115378 -0.585792   \n",
       "race                 -0.067836   -0.001250     -0.115378  1.000000  0.086147   \n",
       "sex                  -0.120360    0.062068     -0.585792  0.086147  1.000000   \n",
       "capital.gain         -0.042994    0.021418     -0.056754  0.011526  0.047757   \n",
       "capital.loss         -0.035608    0.013041     -0.062581  0.020965  0.047010   \n",
       "hours.per.week       -0.186770    0.018296     -0.257288  0.044810  0.230321   \n",
       "native.country       -0.029265   -0.011085     -0.005068  0.141011 -0.010061   \n",
       "income               -0.194582    0.050144     -0.251255  0.070927  0.216626   \n",
       "\n",
       "                capital.gain  capital.loss  hours.per.week  native.country  \\\n",
       "age                 0.080392      0.060409        0.101879       -0.003487   \n",
       "workclass           0.034439      0.008347        0.050181        0.003923   \n",
       "fnlwgt             -0.000189     -0.010011       -0.022810       -0.053417   \n",
       "education           0.029772      0.015088        0.058821        0.066650   \n",
       "education.num       0.124247      0.079321        0.151241        0.053229   \n",
       "marital.status     -0.042994     -0.035608       -0.186770       -0.029265   \n",
       "occupation          0.021418      0.013041        0.018296       -0.011085   \n",
       "relationship       -0.056754     -0.062581       -0.257288       -0.005068   \n",
       "race                0.011526      0.020965        0.044810        0.141011   \n",
       "sex                 0.047757      0.047010        0.230321       -0.010061   \n",
       "capital.gain        1.000000     -0.032332        0.079548       -0.002318   \n",
       "capital.loss       -0.032332      1.000000        0.053961        0.000947   \n",
       "hours.per.week      0.079548      0.053961        1.000000       -0.000635   \n",
       "native.country     -0.002318      0.000947       -0.000635        1.000000   \n",
       "income              0.221871      0.151461        0.228547        0.016524   \n",
       "\n",
       "                  income  \n",
       "age             0.242431  \n",
       "workclass       0.019128  \n",
       "fnlwgt         -0.009446  \n",
       "education       0.078255  \n",
       "education.num   0.334640  \n",
       "marital.status -0.194582  \n",
       "occupation      0.050144  \n",
       "relationship   -0.251255  \n",
       "race            0.070927  \n",
       "sex             0.216626  \n",
       "capital.gain    0.221871  \n",
       "capital.loss    0.151461  \n",
       "hours.per.week  0.228547  \n",
       "native.country  0.016524  \n",
       "income          1.000000  "
      ]
     },
     "execution_count": 30,
     "metadata": {},
     "output_type": "execute_result"
    }
   ],
   "source": [
    "# correlation matrix\n",
    "corr = df.corr()\n",
    "corr"
   ]
  },
  {
   "cell_type": "code",
   "execution_count": 32,
   "metadata": {},
   "outputs": [],
   "source": [
    "# drop 'fmlgwt', 'marital.status', 'relationship', 'income' from x  and incoe is y\n",
    "x = df.drop(['fnlwgt', 'marital.status', 'relationship', 'income'], axis=1)\n",
    "y = df['income']"
   ]
  },
  {
   "cell_type": "code",
   "execution_count": 42,
   "metadata": {},
   "outputs": [],
   "source": [
    "x = df.drop('income', axis=1)\n",
    "y = df['income']"
   ]
  },
  {
   "cell_type": "markdown",
   "metadata": {},
   "source": [
    "#### Model Preparation"
   ]
  },
  {
   "cell_type": "code",
   "execution_count": 43,
   "metadata": {},
   "outputs": [],
   "source": [
    "# split the data into train and test\n",
    "from sklearn.model_selection import train_test_split\n",
    "\n",
    "x_train, x_test, y_train, y_test = train_test_split(x,y, test_size=0.2, random_state=42)"
   ]
  },
  {
   "cell_type": "code",
   "execution_count": 44,
   "metadata": {},
   "outputs": [
    {
     "data": {
      "text/plain": [
       "((24574, 14), (6144, 14))"
      ]
     },
     "execution_count": 44,
     "metadata": {},
     "output_type": "execute_result"
    }
   ],
   "source": [
    "x_train.shape, x_test.shape"
   ]
  },
  {
   "cell_type": "code",
   "execution_count": 45,
   "metadata": {},
   "outputs": [
    {
     "data": {
      "text/plain": [
       "((24574,), (6144,))"
      ]
     },
     "execution_count": 45,
     "metadata": {},
     "output_type": "execute_result"
    }
   ],
   "source": [
    "y_train.shape, y_test.shape"
   ]
  },
  {
   "cell_type": "code",
   "execution_count": 46,
   "metadata": {},
   "outputs": [],
   "source": [
    "from sklearn.tree import DecisionTreeClassifier\n",
    "from sklearn.metrics import accuracy_score\n",
    "from sklearn.metrics import classification_report\n",
    "\n",
    "gini_clf = DecisionTreeClassifier(criterion='gini', max_depth=3, random_state=42)"
   ]
  },
  {
   "cell_type": "code",
   "execution_count": 47,
   "metadata": {},
   "outputs": [
    {
     "data": {
      "text/html": [
       "<style>#sk-container-id-2 {color: black;background-color: white;}#sk-container-id-2 pre{padding: 0;}#sk-container-id-2 div.sk-toggleable {background-color: white;}#sk-container-id-2 label.sk-toggleable__label {cursor: pointer;display: block;width: 100%;margin-bottom: 0;padding: 0.3em;box-sizing: border-box;text-align: center;}#sk-container-id-2 label.sk-toggleable__label-arrow:before {content: \"▸\";float: left;margin-right: 0.25em;color: #696969;}#sk-container-id-2 label.sk-toggleable__label-arrow:hover:before {color: black;}#sk-container-id-2 div.sk-estimator:hover label.sk-toggleable__label-arrow:before {color: black;}#sk-container-id-2 div.sk-toggleable__content {max-height: 0;max-width: 0;overflow: hidden;text-align: left;background-color: #f0f8ff;}#sk-container-id-2 div.sk-toggleable__content pre {margin: 0.2em;color: black;border-radius: 0.25em;background-color: #f0f8ff;}#sk-container-id-2 input.sk-toggleable__control:checked~div.sk-toggleable__content {max-height: 200px;max-width: 100%;overflow: auto;}#sk-container-id-2 input.sk-toggleable__control:checked~label.sk-toggleable__label-arrow:before {content: \"▾\";}#sk-container-id-2 div.sk-estimator input.sk-toggleable__control:checked~label.sk-toggleable__label {background-color: #d4ebff;}#sk-container-id-2 div.sk-label input.sk-toggleable__control:checked~label.sk-toggleable__label {background-color: #d4ebff;}#sk-container-id-2 input.sk-hidden--visually {border: 0;clip: rect(1px 1px 1px 1px);clip: rect(1px, 1px, 1px, 1px);height: 1px;margin: -1px;overflow: hidden;padding: 0;position: absolute;width: 1px;}#sk-container-id-2 div.sk-estimator {font-family: monospace;background-color: #f0f8ff;border: 1px dotted black;border-radius: 0.25em;box-sizing: border-box;margin-bottom: 0.5em;}#sk-container-id-2 div.sk-estimator:hover {background-color: #d4ebff;}#sk-container-id-2 div.sk-parallel-item::after {content: \"\";width: 100%;border-bottom: 1px solid gray;flex-grow: 1;}#sk-container-id-2 div.sk-label:hover label.sk-toggleable__label {background-color: #d4ebff;}#sk-container-id-2 div.sk-serial::before {content: \"\";position: absolute;border-left: 1px solid gray;box-sizing: border-box;top: 0;bottom: 0;left: 50%;z-index: 0;}#sk-container-id-2 div.sk-serial {display: flex;flex-direction: column;align-items: center;background-color: white;padding-right: 0.2em;padding-left: 0.2em;position: relative;}#sk-container-id-2 div.sk-item {position: relative;z-index: 1;}#sk-container-id-2 div.sk-parallel {display: flex;align-items: stretch;justify-content: center;background-color: white;position: relative;}#sk-container-id-2 div.sk-item::before, #sk-container-id-2 div.sk-parallel-item::before {content: \"\";position: absolute;border-left: 1px solid gray;box-sizing: border-box;top: 0;bottom: 0;left: 50%;z-index: -1;}#sk-container-id-2 div.sk-parallel-item {display: flex;flex-direction: column;z-index: 1;position: relative;background-color: white;}#sk-container-id-2 div.sk-parallel-item:first-child::after {align-self: flex-end;width: 50%;}#sk-container-id-2 div.sk-parallel-item:last-child::after {align-self: flex-start;width: 50%;}#sk-container-id-2 div.sk-parallel-item:only-child::after {width: 0;}#sk-container-id-2 div.sk-dashed-wrapped {border: 1px dashed gray;margin: 0 0.4em 0.5em 0.4em;box-sizing: border-box;padding-bottom: 0.4em;background-color: white;}#sk-container-id-2 div.sk-label label {font-family: monospace;font-weight: bold;display: inline-block;line-height: 1.2em;}#sk-container-id-2 div.sk-label-container {text-align: center;}#sk-container-id-2 div.sk-container {/* jupyter's `normalize.less` sets `[hidden] { display: none; }` but bootstrap.min.css set `[hidden] { display: none !important; }` so we also need the `!important` here to be able to override the default hidden behavior on the sphinx rendered scikit-learn.org. See: https://github.com/scikit-learn/scikit-learn/issues/21755 */display: inline-block !important;position: relative;}#sk-container-id-2 div.sk-text-repr-fallback {display: none;}</style><div id=\"sk-container-id-2\" class=\"sk-top-container\"><div class=\"sk-text-repr-fallback\"><pre>DecisionTreeClassifier(max_depth=3, random_state=42)</pre><b>In a Jupyter environment, please rerun this cell to show the HTML representation or trust the notebook. <br />On GitHub, the HTML representation is unable to render, please try loading this page with nbviewer.org.</b></div><div class=\"sk-container\" hidden><div class=\"sk-item\"><div class=\"sk-estimator sk-toggleable\"><input class=\"sk-toggleable__control sk-hidden--visually\" id=\"sk-estimator-id-2\" type=\"checkbox\" checked><label for=\"sk-estimator-id-2\" class=\"sk-toggleable__label sk-toggleable__label-arrow\">DecisionTreeClassifier</label><div class=\"sk-toggleable__content\"><pre>DecisionTreeClassifier(max_depth=3, random_state=42)</pre></div></div></div></div></div>"
      ],
      "text/plain": [
       "DecisionTreeClassifier(max_depth=3, random_state=42)"
      ]
     },
     "execution_count": 47,
     "metadata": {},
     "output_type": "execute_result"
    }
   ],
   "source": [
    "gini_clf.fit(x_train, y_train)"
   ]
  },
  {
   "cell_type": "code",
   "execution_count": 48,
   "metadata": {},
   "outputs": [],
   "source": [
    "y_pred = gini_clf.predict(x_test)"
   ]
  },
  {
   "cell_type": "code",
   "execution_count": 49,
   "metadata": {},
   "outputs": [
    {
     "name": "stdout",
     "output_type": "stream",
     "text": [
      "[0 0 0 ... 0 0 0]\n"
     ]
    }
   ],
   "source": [
    "print(y_pred)"
   ]
  },
  {
   "cell_type": "markdown",
   "metadata": {},
   "source": [
    "#### Accuracy Scores"
   ]
  },
  {
   "cell_type": "code",
   "execution_count": 50,
   "metadata": {},
   "outputs": [
    {
     "name": "stdout",
     "output_type": "stream",
     "text": [
      "0.8347981770833334\n"
     ]
    }
   ],
   "source": [
    "# accuracy score\n",
    "print(accuracy_score(y_test, y_pred))"
   ]
  },
  {
   "cell_type": "code",
   "execution_count": 51,
   "metadata": {},
   "outputs": [
    {
     "name": "stdout",
     "output_type": "stream",
     "text": [
      "              precision    recall  f1-score   support\n",
      "\n",
      "           0       0.84      0.96      0.90      4639\n",
      "           1       0.78      0.45      0.57      1505\n",
      "\n",
      "    accuracy                           0.83      6144\n",
      "   macro avg       0.81      0.71      0.74      6144\n",
      "weighted avg       0.83      0.83      0.82      6144\n",
      "\n"
     ]
    }
   ],
   "source": [
    "# classification report\n",
    "print(classification_report(y_test, y_pred))"
   ]
  }
 ],
 "metadata": {
  "kernelspec": {
   "display_name": "Python 3.10.10 ('work')",
   "language": "python",
   "name": "python3"
  },
  "language_info": {
   "codemirror_mode": {
    "name": "ipython",
    "version": 3
   },
   "file_extension": ".py",
   "mimetype": "text/x-python",
   "name": "python",
   "nbconvert_exporter": "python",
   "pygments_lexer": "ipython3",
   "version": "3.10.10"
  },
  "orig_nbformat": 4,
  "vscode": {
   "interpreter": {
    "hash": "f6becb90ea85e501e0c5dc0cf472a45ace99c50f8d1426b3da8c341d18623653"
   }
  }
 },
 "nbformat": 4,
 "nbformat_minor": 2
}
